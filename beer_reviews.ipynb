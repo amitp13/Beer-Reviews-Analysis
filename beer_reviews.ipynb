{
 "cells": [
  {
   "cell_type": "markdown",
   "metadata": {},
   "source": [
    "<center> <h1> Beer Reviews </h1> </center>\n",
    "\n",
    "The following jupyter notebook is an analysis of more 50,000 beers across the world and how users have reviewed them based on aroma, taste, appearance, palate, etc. We will first look at the different subtypes of ratings and how much correlation do they have to the overall rating and which are the strongest indicators of high rated beer. Secondly we will look at the relation between ABV(alcohol level by volume) and ratings. The notebook is split in three phases namely Data Cleaning, Exploratory Data Analysis and Modelling. "
   ]
  },
  {
   "cell_type": "markdown",
   "metadata": {
    "heading_collapsed": true
   },
   "source": [
    "#### 1. Data Preparation"
   ]
  },
  {
   "cell_type": "markdown",
   "metadata": {
    "hidden": true
   },
   "source": [
    "All our data is placed in the database beer.db. With help sqlite3 we will extract only the data we require through SQL queries. The data we will use for our prediction will be average values for aroma, palate, appearance and so on for each beer.  "
   ]
  },
  {
   "cell_type": "code",
   "execution_count": 37,
   "metadata": {
    "hidden": true
   },
   "outputs": [],
   "source": [
    "import pandas as pd\n",
    "import numpy as np\n",
    "import seaborn as sns\n",
    "import sqlite3\n",
    "import matplotlib.pyplot as plt\n",
    "from sklearn.model_selection import train_test_split\n",
    "from sklearn import linear_model\n",
    "from sklearn.metrics import mean_squared_error\n",
    "from sklearn.metrics import r2_score"
   ]
  },
  {
   "cell_type": "code",
   "execution_count": 2,
   "metadata": {
    "hidden": true
   },
   "outputs": [],
   "source": [
    "#Code for getting dataframes from various queries fired on the database\n",
    "def query_result_df(q):\n",
    "    conn = sqlite3.connect(r'C:\\Users\\phadk\\Desktop\\Work\\projects\\beer.db')\n",
    "    con = conn.cursor()\n",
    "    query = con.execute(q)\n",
    "    cols = [column[0] for column in query.description]\n",
    "    result_df = pd.DataFrame.from_records(data = query.fetchall(), columns = cols)\n",
    "    return result_df"
   ]
  },
  {
   "cell_type": "code",
   "execution_count": 3,
   "metadata": {
    "hidden": true
   },
   "outputs": [],
   "source": [
    "#getting a dataframe with all results from beer_master table \n",
    "data = query_result_df('''SELECT beer_beerid, beer_name, brewery_id, brewery_name, beer_style, beer_abv, ROUND(AVG(review_appearance),2) AS avg_review_appearance, \n",
    "ROUND(AVG(review_aroma),2) AS avg_review_aroma, ROUND(AVG(review_palate),2) AS avg_review_palate, \n",
    "ROUND(AVG(review_taste),2) AS avg_review_taste, ROUND(AVG(review_overall),2) AS avg_review_overall \n",
    "FROM beer_reviews \n",
    "GROUP BY beer_beerid''')"
   ]
  },
  {
   "cell_type": "code",
   "execution_count": 4,
   "metadata": {
    "hidden": true
   },
   "outputs": [
    {
     "data": {
      "text/html": [
       "<div>\n",
       "<style scoped>\n",
       "    .dataframe tbody tr th:only-of-type {\n",
       "        vertical-align: middle;\n",
       "    }\n",
       "\n",
       "    .dataframe tbody tr th {\n",
       "        vertical-align: top;\n",
       "    }\n",
       "\n",
       "    .dataframe thead th {\n",
       "        text-align: right;\n",
       "    }\n",
       "</style>\n",
       "<table border=\"1\" class=\"dataframe\">\n",
       "  <thead>\n",
       "    <tr style=\"text-align: right;\">\n",
       "      <th></th>\n",
       "      <th>beer_beerid</th>\n",
       "      <th>beer_name</th>\n",
       "      <th>brewery_id</th>\n",
       "      <th>brewery_name</th>\n",
       "      <th>beer_style</th>\n",
       "      <th>beer_abv</th>\n",
       "      <th>avg_review_appearance</th>\n",
       "      <th>avg_review_aroma</th>\n",
       "      <th>avg_review_palate</th>\n",
       "      <th>avg_review_taste</th>\n",
       "      <th>avg_review_overall</th>\n",
       "    </tr>\n",
       "  </thead>\n",
       "  <tbody>\n",
       "    <tr>\n",
       "      <th>0</th>\n",
       "      <td>3</td>\n",
       "      <td>Cactus Queen IPA</td>\n",
       "      <td>2</td>\n",
       "      <td>Yellow Rose Brewing Company</td>\n",
       "      <td>American IPA</td>\n",
       "      <td>NaN</td>\n",
       "      <td>3.83</td>\n",
       "      <td>4.00</td>\n",
       "      <td>4.17</td>\n",
       "      <td>4.17</td>\n",
       "      <td>4.17</td>\n",
       "    </tr>\n",
       "    <tr>\n",
       "      <th>1</th>\n",
       "      <td>4</td>\n",
       "      <td>Wildcatter's Crude Stout</td>\n",
       "      <td>2</td>\n",
       "      <td>Yellow Rose Brewing Company</td>\n",
       "      <td>American Stout</td>\n",
       "      <td>NaN</td>\n",
       "      <td>3.95</td>\n",
       "      <td>3.80</td>\n",
       "      <td>3.70</td>\n",
       "      <td>3.45</td>\n",
       "      <td>3.70</td>\n",
       "    </tr>\n",
       "    <tr>\n",
       "      <th>2</th>\n",
       "      <td>5</td>\n",
       "      <td>Amber</td>\n",
       "      <td>3</td>\n",
       "      <td>Abita Brewing Co.</td>\n",
       "      <td>Vienna Lager</td>\n",
       "      <td>4.5</td>\n",
       "      <td>3.49</td>\n",
       "      <td>3.21</td>\n",
       "      <td>3.32</td>\n",
       "      <td>3.34</td>\n",
       "      <td>3.55</td>\n",
       "    </tr>\n",
       "    <tr>\n",
       "      <th>3</th>\n",
       "      <td>6</td>\n",
       "      <td>Turbodog</td>\n",
       "      <td>3</td>\n",
       "      <td>Abita Brewing Co.</td>\n",
       "      <td>English Brown Ale</td>\n",
       "      <td>5.6</td>\n",
       "      <td>3.84</td>\n",
       "      <td>3.52</td>\n",
       "      <td>3.51</td>\n",
       "      <td>3.65</td>\n",
       "      <td>3.71</td>\n",
       "    </tr>\n",
       "    <tr>\n",
       "      <th>4</th>\n",
       "      <td>7</td>\n",
       "      <td>Purple Haze</td>\n",
       "      <td>3</td>\n",
       "      <td>Abita Brewing Co.</td>\n",
       "      <td>Fruit / Vegetable Beer</td>\n",
       "      <td>4.2</td>\n",
       "      <td>3.25</td>\n",
       "      <td>3.18</td>\n",
       "      <td>3.11</td>\n",
       "      <td>3.10</td>\n",
       "      <td>3.27</td>\n",
       "    </tr>\n",
       "  </tbody>\n",
       "</table>\n",
       "</div>"
      ],
      "text/plain": [
       "   beer_beerid                 beer_name  brewery_id  \\\n",
       "0            3          Cactus Queen IPA           2   \n",
       "1            4  Wildcatter's Crude Stout           2   \n",
       "2            5                     Amber           3   \n",
       "3            6                  Turbodog           3   \n",
       "4            7               Purple Haze           3   \n",
       "\n",
       "                  brewery_name              beer_style  beer_abv  \\\n",
       "0  Yellow Rose Brewing Company            American IPA       NaN   \n",
       "1  Yellow Rose Brewing Company          American Stout       NaN   \n",
       "2            Abita Brewing Co.            Vienna Lager       4.5   \n",
       "3            Abita Brewing Co.       English Brown Ale       5.6   \n",
       "4            Abita Brewing Co.  Fruit / Vegetable Beer       4.2   \n",
       "\n",
       "   avg_review_appearance  avg_review_aroma  avg_review_palate  \\\n",
       "0                   3.83              4.00               4.17   \n",
       "1                   3.95              3.80               3.70   \n",
       "2                   3.49              3.21               3.32   \n",
       "3                   3.84              3.52               3.51   \n",
       "4                   3.25              3.18               3.11   \n",
       "\n",
       "   avg_review_taste  avg_review_overall  \n",
       "0              4.17                4.17  \n",
       "1              3.45                3.70  \n",
       "2              3.34                3.55  \n",
       "3              3.65                3.71  \n",
       "4              3.10                3.27  "
      ]
     },
     "execution_count": 4,
     "metadata": {},
     "output_type": "execute_result"
    }
   ],
   "source": [
    "data.head()"
   ]
  },
  {
   "cell_type": "markdown",
   "metadata": {
    "heading_collapsed": true
   },
   "source": [
    "#### 1. Data Cleaning"
   ]
  },
  {
   "cell_type": "code",
   "execution_count": 5,
   "metadata": {
    "hidden": true
   },
   "outputs": [
    {
     "data": {
      "text/html": [
       "<div>\n",
       "<style scoped>\n",
       "    .dataframe tbody tr th:only-of-type {\n",
       "        vertical-align: middle;\n",
       "    }\n",
       "\n",
       "    .dataframe tbody tr th {\n",
       "        vertical-align: top;\n",
       "    }\n",
       "\n",
       "    .dataframe thead th {\n",
       "        text-align: right;\n",
       "    }\n",
       "</style>\n",
       "<table border=\"1\" class=\"dataframe\">\n",
       "  <thead>\n",
       "    <tr style=\"text-align: right;\">\n",
       "      <th></th>\n",
       "      <th>beer_beerid</th>\n",
       "      <th>brewery_id</th>\n",
       "      <th>beer_abv</th>\n",
       "      <th>avg_review_appearance</th>\n",
       "      <th>avg_review_aroma</th>\n",
       "      <th>avg_review_palate</th>\n",
       "      <th>avg_review_taste</th>\n",
       "      <th>avg_review_overall</th>\n",
       "    </tr>\n",
       "  </thead>\n",
       "  <tbody>\n",
       "    <tr>\n",
       "      <th>count</th>\n",
       "      <td>66055.000000</td>\n",
       "      <td>66055.000000</td>\n",
       "      <td>49012.000000</td>\n",
       "      <td>66055.000000</td>\n",
       "      <td>66055.000000</td>\n",
       "      <td>66055.000000</td>\n",
       "      <td>66055.000000</td>\n",
       "      <td>66055.000000</td>\n",
       "    </tr>\n",
       "    <tr>\n",
       "      <th>mean</th>\n",
       "      <td>39718.135084</td>\n",
       "      <td>6855.265294</td>\n",
       "      <td>6.271890</td>\n",
       "      <td>3.686760</td>\n",
       "      <td>3.553423</td>\n",
       "      <td>3.575470</td>\n",
       "      <td>3.600068</td>\n",
       "      <td>3.656606</td>\n",
       "    </tr>\n",
       "    <tr>\n",
       "      <th>std</th>\n",
       "      <td>22416.177772</td>\n",
       "      <td>7482.954279</td>\n",
       "      <td>2.050938</td>\n",
       "      <td>0.507154</td>\n",
       "      <td>0.588795</td>\n",
       "      <td>0.579625</td>\n",
       "      <td>0.629013</td>\n",
       "      <td>0.621716</td>\n",
       "    </tr>\n",
       "    <tr>\n",
       "      <th>min</th>\n",
       "      <td>3.000000</td>\n",
       "      <td>1.000000</td>\n",
       "      <td>0.010000</td>\n",
       "      <td>1.000000</td>\n",
       "      <td>1.000000</td>\n",
       "      <td>1.000000</td>\n",
       "      <td>1.000000</td>\n",
       "      <td>1.000000</td>\n",
       "    </tr>\n",
       "    <tr>\n",
       "      <th>25%</th>\n",
       "      <td>20503.500000</td>\n",
       "      <td>879.000000</td>\n",
       "      <td>5.000000</td>\n",
       "      <td>3.500000</td>\n",
       "      <td>3.250000</td>\n",
       "      <td>3.250000</td>\n",
       "      <td>3.310000</td>\n",
       "      <td>3.420000</td>\n",
       "    </tr>\n",
       "    <tr>\n",
       "      <th>50%</th>\n",
       "      <td>40506.000000</td>\n",
       "      <td>3073.000000</td>\n",
       "      <td>5.700000</td>\n",
       "      <td>3.750000</td>\n",
       "      <td>3.580000</td>\n",
       "      <td>3.670000</td>\n",
       "      <td>3.690000</td>\n",
       "      <td>3.750000</td>\n",
       "    </tr>\n",
       "    <tr>\n",
       "      <th>75%</th>\n",
       "      <td>59206.500000</td>\n",
       "      <td>11814.000000</td>\n",
       "      <td>7.200000</td>\n",
       "      <td>4.000000</td>\n",
       "      <td>4.000000</td>\n",
       "      <td>4.000000</td>\n",
       "      <td>4.000000</td>\n",
       "      <td>4.000000</td>\n",
       "    </tr>\n",
       "    <tr>\n",
       "      <th>max</th>\n",
       "      <td>77317.000000</td>\n",
       "      <td>28003.000000</td>\n",
       "      <td>57.700000</td>\n",
       "      <td>5.000000</td>\n",
       "      <td>5.000000</td>\n",
       "      <td>5.000000</td>\n",
       "      <td>5.000000</td>\n",
       "      <td>5.000000</td>\n",
       "    </tr>\n",
       "  </tbody>\n",
       "</table>\n",
       "</div>"
      ],
      "text/plain": [
       "        beer_beerid    brewery_id      beer_abv  avg_review_appearance  \\\n",
       "count  66055.000000  66055.000000  49012.000000           66055.000000   \n",
       "mean   39718.135084   6855.265294      6.271890               3.686760   \n",
       "std    22416.177772   7482.954279      2.050938               0.507154   \n",
       "min        3.000000      1.000000      0.010000               1.000000   \n",
       "25%    20503.500000    879.000000      5.000000               3.500000   \n",
       "50%    40506.000000   3073.000000      5.700000               3.750000   \n",
       "75%    59206.500000  11814.000000      7.200000               4.000000   \n",
       "max    77317.000000  28003.000000     57.700000               5.000000   \n",
       "\n",
       "       avg_review_aroma  avg_review_palate  avg_review_taste  \\\n",
       "count      66055.000000       66055.000000      66055.000000   \n",
       "mean           3.553423           3.575470          3.600068   \n",
       "std            0.588795           0.579625          0.629013   \n",
       "min            1.000000           1.000000          1.000000   \n",
       "25%            3.250000           3.250000          3.310000   \n",
       "50%            3.580000           3.670000          3.690000   \n",
       "75%            4.000000           4.000000          4.000000   \n",
       "max            5.000000           5.000000          5.000000   \n",
       "\n",
       "       avg_review_overall  \n",
       "count        66055.000000  \n",
       "mean             3.656606  \n",
       "std              0.621716  \n",
       "min              1.000000  \n",
       "25%              3.420000  \n",
       "50%              3.750000  \n",
       "75%              4.000000  \n",
       "max              5.000000  "
      ]
     },
     "execution_count": 5,
     "metadata": {},
     "output_type": "execute_result"
    }
   ],
   "source": [
    "data.describe()"
   ]
  },
  {
   "cell_type": "markdown",
   "metadata": {
    "hidden": true
   },
   "source": [
    "Here We see that reviews are given between a value of 1 to 5. The value of beer ABV(Alcohol By Volume) level is continuous value upto 57.7."
   ]
  },
  {
   "cell_type": "code",
   "execution_count": 6,
   "metadata": {
    "hidden": true
   },
   "outputs": [
    {
     "data": {
      "text/plain": [
       "beer_beerid                  0\n",
       "beer_name                    0\n",
       "brewery_id                   0\n",
       "brewery_name                11\n",
       "beer_style                   0\n",
       "beer_abv                 17043\n",
       "avg_review_appearance        0\n",
       "avg_review_aroma             0\n",
       "avg_review_palate            0\n",
       "avg_review_taste             0\n",
       "avg_review_overall           0\n",
       "dtype: int64"
      ]
     },
     "execution_count": 6,
     "metadata": {},
     "output_type": "execute_result"
    }
   ],
   "source": [
    "data.isna().sum()"
   ]
  },
  {
   "cell_type": "markdown",
   "metadata": {
    "hidden": true
   },
   "source": [
    "We see that beer_abv column has 17043 missing values. Here we can use a few strategies to fill out these values. We can analyze if certain beer styles in our dataset have a particular abv range and then fill the abv values as per our analysis.  "
   ]
  },
  {
   "cell_type": "code",
   "execution_count": 7,
   "metadata": {
    "hidden": true
   },
   "outputs": [],
   "source": [
    "#query to get average abv values from the style of a certain beer\n",
    "data_abv = query_result_df('''SELECT beer_style,min(beer_abv)+ max(beer_abv)/2 AS avg_abv \n",
    "FROM (SELECT beer_beerid, beer_name, brewery_id, brewery_name, beer_style, beer_abv, ROUND(AVG(review_appearance),2) AS avg_review_appearance, \n",
    "ROUND(AVG(review_aroma),2) AS avg_review_aroma, ROUND(AVG(review_palate),2) AS avg_review_palate, \n",
    "ROUND(AVG(review_taste),2) AS avg_review_taste, ROUND(AVG(review_overall),2) AS avg_review_overall \n",
    "FROM beer_reviews \n",
    "GROUP BY beer_beerid)\n",
    "GROUP BY beer_style''')\n",
    "\n",
    "data = data.merge(data_abv,how=\"left\",on='beer_style')\n",
    "data['beer_abv'] = data['beer_abv'].fillna(value=data['avg_abv'])\n",
    "\n",
    "data.drop(['avg_abv'], axis=1, inplace=True)"
   ]
  },
  {
   "cell_type": "markdown",
   "metadata": {
    "heading_collapsed": true
   },
   "source": [
    "#### 2. Exploratory Data Analysis"
   ]
  },
  {
   "cell_type": "code",
   "execution_count": 8,
   "metadata": {
    "hidden": true
   },
   "outputs": [
    {
     "data": {
      "text/plain": [
       "<matplotlib.axes._subplots.AxesSubplot at 0x2024cb72088>"
      ]
     },
     "execution_count": 8,
     "metadata": {},
     "output_type": "execute_result"
    },
    {
     "data": {
      "image/png": "[encoded data removed]",
      "text/plain": [
       "<Figure size 432x288 with 1 Axes>"
      ]
     },
     "metadata": {
      "needs_background": "light"
     },
     "output_type": "display_data"
    }
   ],
   "source": [
    "viz_abv = data.sort_values('beer_abv').tail(5)\n",
    "sns.barplot(x=\"beer_abv\",y=\"beer_name\",  \n",
    "            palette=\"Blues_d\", \n",
    "            order=viz_abv.sort_values('beer_abv',ascending=False).beer_name,\n",
    "            label = \"Beers with Highest ABV\",\n",
    "            data=viz_abv)"
   ]
  },
  {
   "cell_type": "code",
   "execution_count": 9,
   "metadata": {
    "hidden": true
   },
   "outputs": [
    {
     "data": {
      "text/html": [
       "<div>\n",
       "<style scoped>\n",
       "    .dataframe tbody tr th:only-of-type {\n",
       "        vertical-align: middle;\n",
       "    }\n",
       "\n",
       "    .dataframe tbody tr th {\n",
       "        vertical-align: top;\n",
       "    }\n",
       "\n",
       "    .dataframe thead th {\n",
       "        text-align: right;\n",
       "    }\n",
       "</style>\n",
       "<table border=\"1\" class=\"dataframe\">\n",
       "  <thead>\n",
       "    <tr style=\"text-align: right;\">\n",
       "      <th></th>\n",
       "      <th>beer_name</th>\n",
       "      <th>brewery_name</th>\n",
       "      <th>beer_style</th>\n",
       "      <th>beer_abv</th>\n",
       "    </tr>\n",
       "  </thead>\n",
       "  <tbody>\n",
       "    <tr>\n",
       "      <th>53491</th>\n",
       "      <td>Biere Blonde</td>\n",
       "      <td>Ninkasi Fabriques</td>\n",
       "      <td>American Blonde Ale</td>\n",
       "      <td>4.5</td>\n",
       "    </tr>\n",
       "    <tr>\n",
       "      <th>48640</th>\n",
       "      <td>Diamond Knot IPA (Dry Hopped With Simcoe)</td>\n",
       "      <td>Diamond Knot Brewery</td>\n",
       "      <td>American IPA</td>\n",
       "      <td>6.0</td>\n",
       "    </tr>\n",
       "    <tr>\n",
       "      <th>53499</th>\n",
       "      <td>Chocolate Orange Delight</td>\n",
       "      <td>Downton Brewery Company</td>\n",
       "      <td>Milk / Sweet Stout</td>\n",
       "      <td>5.8</td>\n",
       "    </tr>\n",
       "    <tr>\n",
       "      <th>6553</th>\n",
       "      <td>Christmas Stark Lager</td>\n",
       "      <td>Red Oak Brewery</td>\n",
       "      <td>Märzen / Oktoberfest</td>\n",
       "      <td>5.7</td>\n",
       "    </tr>\n",
       "    <tr>\n",
       "      <th>33583</th>\n",
       "      <td>Caves Right Pilsner</td>\n",
       "      <td>Ram Restaurant &amp; Brewery</td>\n",
       "      <td>Czech Pilsener</td>\n",
       "      <td>4.8</td>\n",
       "    </tr>\n",
       "    <tr>\n",
       "      <th>28745</th>\n",
       "      <td>Wiltse's Blue Ox Stout</td>\n",
       "      <td>Wiltse's Brew Pub and Family Restaurant</td>\n",
       "      <td>American Stout</td>\n",
       "      <td>8.5</td>\n",
       "    </tr>\n",
       "    <tr>\n",
       "      <th>50829</th>\n",
       "      <td>Addlepated Ale</td>\n",
       "      <td>Titletown Brewing Company</td>\n",
       "      <td>American Amber / Red Ale</td>\n",
       "      <td>6.5</td>\n",
       "    </tr>\n",
       "    <tr>\n",
       "      <th>39265</th>\n",
       "      <td>Tcheca</td>\n",
       "      <td>Micro Cervejaria Bamberg</td>\n",
       "      <td>Czech Pilsener</td>\n",
       "      <td>5.4</td>\n",
       "    </tr>\n",
       "    <tr>\n",
       "      <th>28708</th>\n",
       "      <td>Telewhacker</td>\n",
       "      <td>The Livery</td>\n",
       "      <td>American Brown Ale</td>\n",
       "      <td>6.5</td>\n",
       "    </tr>\n",
       "    <tr>\n",
       "      <th>62125</th>\n",
       "      <td>Cape May Wheat</td>\n",
       "      <td>Cape May Brewing Company</td>\n",
       "      <td>American Pale Wheat Ale</td>\n",
       "      <td>7.4</td>\n",
       "    </tr>\n",
       "  </tbody>\n",
       "</table>\n",
       "</div>"
      ],
      "text/plain": [
       "                                       beer_name  \\\n",
       "53491                               Biere Blonde   \n",
       "48640  Diamond Knot IPA (Dry Hopped With Simcoe)   \n",
       "53499                   Chocolate Orange Delight   \n",
       "6553                       Christmas Stark Lager   \n",
       "33583                        Caves Right Pilsner   \n",
       "28745                     Wiltse's Blue Ox Stout   \n",
       "50829                             Addlepated Ale   \n",
       "39265                                     Tcheca   \n",
       "28708                                Telewhacker   \n",
       "62125                             Cape May Wheat   \n",
       "\n",
       "                                  brewery_name                beer_style  \\\n",
       "53491                        Ninkasi Fabriques       American Blonde Ale   \n",
       "48640                     Diamond Knot Brewery              American IPA   \n",
       "53499                  Downton Brewery Company        Milk / Sweet Stout   \n",
       "6553                           Red Oak Brewery      Märzen / Oktoberfest   \n",
       "33583                 Ram Restaurant & Brewery            Czech Pilsener   \n",
       "28745  Wiltse's Brew Pub and Family Restaurant            American Stout   \n",
       "50829                Titletown Brewing Company  American Amber / Red Ale   \n",
       "39265                 Micro Cervejaria Bamberg            Czech Pilsener   \n",
       "28708                               The Livery        American Brown Ale   \n",
       "62125                 Cape May Brewing Company   American Pale Wheat Ale   \n",
       "\n",
       "       beer_abv  \n",
       "53491       4.5  \n",
       "48640       6.0  \n",
       "53499       5.8  \n",
       "6553        5.7  \n",
       "33583       4.8  \n",
       "28745       8.5  \n",
       "50829       6.5  \n",
       "39265       5.4  \n",
       "28708       6.5  \n",
       "62125       7.4  "
      ]
     },
     "execution_count": 9,
     "metadata": {},
     "output_type": "execute_result"
    }
   ],
   "source": [
    "viz_abv = data.sort_values('avg_review_taste').tail(10)\n",
    "viz_abv[['beer_name','brewery_name','beer_style','beer_abv']]"
   ]
  },
  {
   "cell_type": "code",
   "execution_count": 10,
   "metadata": {
    "hidden": true
   },
   "outputs": [
    {
     "data": {
      "text/html": [
       "<div>\n",
       "<style scoped>\n",
       "    .dataframe tbody tr th:only-of-type {\n",
       "        vertical-align: middle;\n",
       "    }\n",
       "\n",
       "    .dataframe tbody tr th {\n",
       "        vertical-align: top;\n",
       "    }\n",
       "\n",
       "    .dataframe thead th {\n",
       "        text-align: right;\n",
       "    }\n",
       "</style>\n",
       "<table border=\"1\" class=\"dataframe\">\n",
       "  <thead>\n",
       "    <tr style=\"text-align: right;\">\n",
       "      <th></th>\n",
       "      <th>beer_name</th>\n",
       "      <th>brewery_name</th>\n",
       "      <th>beer_style</th>\n",
       "      <th>beer_abv</th>\n",
       "    </tr>\n",
       "  </thead>\n",
       "  <tbody>\n",
       "    <tr>\n",
       "      <th>30456</th>\n",
       "      <td>John's Mild Bitter</td>\n",
       "      <td>Phantom Canyon Brewing Company</td>\n",
       "      <td>English Dark Mild Ale</td>\n",
       "      <td>5.25</td>\n",
       "    </tr>\n",
       "    <tr>\n",
       "      <th>53166</th>\n",
       "      <td>La Libertine</td>\n",
       "      <td>Brasserie Des Vignes</td>\n",
       "      <td>Belgian Pale Ale</td>\n",
       "      <td>5.00</td>\n",
       "    </tr>\n",
       "    <tr>\n",
       "      <th>58214</th>\n",
       "      <td>Mango Double Simcoe</td>\n",
       "      <td>Weyerbacher Brewing Co.</td>\n",
       "      <td>American Double / Imperial IPA</td>\n",
       "      <td>9.00</td>\n",
       "    </tr>\n",
       "    <tr>\n",
       "      <th>19836</th>\n",
       "      <td>Weizenbock</td>\n",
       "      <td>Silver Peak Restaurant &amp; Brewery</td>\n",
       "      <td>Weizenbock</td>\n",
       "      <td>6.50</td>\n",
       "    </tr>\n",
       "    <tr>\n",
       "      <th>53141</th>\n",
       "      <td>Barley O'Gnarly</td>\n",
       "      <td>Mick Duff's Brewing Company</td>\n",
       "      <td>American Barleywine</td>\n",
       "      <td>9.60</td>\n",
       "    </tr>\n",
       "    <tr>\n",
       "      <th>19795</th>\n",
       "      <td>Moon Beam Blue</td>\n",
       "      <td>Astoria Brewing Company / Wet Dog Cafe</td>\n",
       "      <td>Fruit / Vegetable Beer</td>\n",
       "      <td>4.20</td>\n",
       "    </tr>\n",
       "    <tr>\n",
       "      <th>5089</th>\n",
       "      <td>J.J.'s Hefeweizen</td>\n",
       "      <td>J.J. Bitting Brewing Company</td>\n",
       "      <td>Hefeweizen</td>\n",
       "      <td>4.80</td>\n",
       "    </tr>\n",
       "    <tr>\n",
       "      <th>19710</th>\n",
       "      <td>Blackberry Ale</td>\n",
       "      <td>John Harvard's Brewery &amp; Ale House</td>\n",
       "      <td>Fruit / Vegetable Beer</td>\n",
       "      <td>9.90</td>\n",
       "    </tr>\n",
       "    <tr>\n",
       "      <th>19890</th>\n",
       "      <td>La Sambresse Blonde</td>\n",
       "      <td>Brasserie Brootcoorens</td>\n",
       "      <td>Belgian Strong Pale Ale</td>\n",
       "      <td>8.00</td>\n",
       "    </tr>\n",
       "    <tr>\n",
       "      <th>14121</th>\n",
       "      <td>White Lion</td>\n",
       "      <td>Red Lion Ales</td>\n",
       "      <td>American Blonde Ale</td>\n",
       "      <td>4.30</td>\n",
       "    </tr>\n",
       "  </tbody>\n",
       "</table>\n",
       "</div>"
      ],
      "text/plain": [
       "                 beer_name                            brewery_name  \\\n",
       "30456   John's Mild Bitter          Phantom Canyon Brewing Company   \n",
       "53166         La Libertine                    Brasserie Des Vignes   \n",
       "58214  Mango Double Simcoe                 Weyerbacher Brewing Co.   \n",
       "19836           Weizenbock        Silver Peak Restaurant & Brewery   \n",
       "53141      Barley O'Gnarly             Mick Duff's Brewing Company   \n",
       "19795       Moon Beam Blue  Astoria Brewing Company / Wet Dog Cafe   \n",
       "5089     J.J.'s Hefeweizen            J.J. Bitting Brewing Company   \n",
       "19710       Blackberry Ale      John Harvard's Brewery & Ale House   \n",
       "19890  La Sambresse Blonde                  Brasserie Brootcoorens   \n",
       "14121           White Lion                           Red Lion Ales   \n",
       "\n",
       "                           beer_style  beer_abv  \n",
       "30456           English Dark Mild Ale      5.25  \n",
       "53166                Belgian Pale Ale      5.00  \n",
       "58214  American Double / Imperial IPA      9.00  \n",
       "19836                      Weizenbock      6.50  \n",
       "53141             American Barleywine      9.60  \n",
       "19795          Fruit / Vegetable Beer      4.20  \n",
       "5089                       Hefeweizen      4.80  \n",
       "19710          Fruit / Vegetable Beer      9.90  \n",
       "19890         Belgian Strong Pale Ale      8.00  \n",
       "14121             American Blonde Ale      4.30  "
      ]
     },
     "execution_count": 10,
     "metadata": {},
     "output_type": "execute_result"
    }
   ],
   "source": [
    "viz_abv = data.sort_values('avg_review_overall').tail(10)\n",
    "viz_abv[['beer_name','brewery_name','beer_style','beer_abv']]"
   ]
  },
  {
   "cell_type": "code",
   "execution_count": 11,
   "metadata": {
    "hidden": true
   },
   "outputs": [
    {
     "data": {
      "text/plain": [
       "<matplotlib.axes._subplots.AxesSubplot at 0x2025bf596c8>"
      ]
     },
     "execution_count": 11,
     "metadata": {},
     "output_type": "execute_result"
    },
    {
     "data": {
      "image/png": "[encoded data removed]",
      "text/plain": [
       "<Figure size 432x288 with 2 Axes>"
      ]
     },
     "metadata": {
      "needs_background": "light"
     },
     "output_type": "display_data"
    }
   ],
   "source": [
    "data_quant = data[['beer_abv','avg_review_appearance','avg_review_aroma',\n",
    "                   'avg_review_palate','avg_review_taste', 'avg_review_overall']]\n",
    "corr = data_quant.corr()\n",
    "sns.heatmap(corr, xticklabels=corr.columns, yticklabels=corr.columns, annot=True, linewidth=0.5)"
   ]
  },
  {
   "cell_type": "markdown",
   "metadata": {
    "hidden": true
   },
   "source": [
    "Here we see that taste, palate and aroma are most closely related to high overall ratings. Next we will look at how these three factors on a regression line."
   ]
  },
  {
   "cell_type": "code",
   "execution_count": 12,
   "metadata": {
    "hidden": true
   },
   "outputs": [
    {
     "data": {
      "image/png": "[encoded data removed]",
      "text/plain": [
       "<Figure size 576x576 with 3 Axes>"
      ]
     },
     "metadata": {
      "needs_background": "light"
     },
     "output_type": "display_data"
    }
   ],
   "source": [
    "fig, (ax1, ax2, ax3) = plt.subplots(1,3,figsize=(8,8))\n",
    "sns.lineplot(x='avg_review_aroma',y='avg_review_overall', data=data, ax = ax1).set_title('Aroma vs Review');\n",
    "sns.lineplot(x='avg_review_taste',y='avg_review_overall', data=data, ax = ax2).set_title('Taste vs Review');\n",
    "sns.lineplot(x='avg_review_palate',y='avg_review_overall', data=data, ax = ax3).set_title('palate vs Review');\n",
    "plt.show()\n"
   ]
  },
  {
   "cell_type": "markdown",
   "metadata": {
    "hidden": true
   },
   "source": [
    "We see that aroma, taste and palate are good indicator to a highly rated beer. So these can be used in our Regression models."
   ]
  },
  {
   "cell_type": "markdown",
   "metadata": {},
   "source": [
    "#### 3. Regression"
   ]
  },
  {
   "cell_type": "markdown",
   "metadata": {},
   "source": [
    "To predict the overall beer quality we will look at how consumers rated aroma, palate and taste. We will use Multiple Linear Regression to build our model."
   ]
  },
  {
   "cell_type": "code",
   "execution_count": 28,
   "metadata": {},
   "outputs": [],
   "source": [
    "X = data[['avg_review_aroma','avg_review_palate','avg_review_taste']]\n",
    "Y = data[['avg_review_overall']]"
   ]
  },
  {
   "cell_type": "code",
   "execution_count": 29,
   "metadata": {},
   "outputs": [],
   "source": [
    "x_train, x_test, y_train, y_test = train_test_split(X,Y,test_size=0.20,random_state=42)"
   ]
  },
  {
   "cell_type": "code",
   "execution_count": 30,
   "metadata": {},
   "outputs": [
    {
     "data": {
      "text/plain": [
       "LinearRegression(copy_X=True, fit_intercept=True, n_jobs=None, normalize=True)"
      ]
     },
     "execution_count": 30,
     "metadata": {},
     "output_type": "execute_result"
    }
   ],
   "source": [
    "#Define the Model\n",
    "model = linear_model.LinearRegression(normalize = True)\n",
    "model.fit(x_train,y_train)"
   ]
  },
  {
   "cell_type": "code",
   "execution_count": 31,
   "metadata": {},
   "outputs": [],
   "source": [
    "#predicting on test data\n",
    "pred = model.predict(x_test)"
   ]
  },
  {
   "cell_type": "code",
   "execution_count": 24,
   "metadata": {},
   "outputs": [
    {
     "name": "stdout",
     "output_type": "stream",
     "text": [
      "Predicted Overall Beer Quality: \n",
      " [[4.16391755]]\n"
     ]
    }
   ],
   "source": [
    "# prediction with sklearn\n",
    "aroma = 4.4\n",
    "palate = 3.9\n",
    "taste = 4.2\n",
    "print ('Predicted Overall Beer Quality: \\n', model.predict([[aroma,palate,taste]]))"
   ]
  },
  {
   "cell_type": "code",
   "execution_count": 39,
   "metadata": {},
   "outputs": [
    {
     "name": "stdout",
     "output_type": "stream",
     "text": [
      "RMSE: 0.28316395826220864\n",
      "R-Sqruared: 0.797139119212154\n"
     ]
    }
   ],
   "source": [
    "rmse = np.sqrt(mean_squared_error(y_test,pred))\n",
    "print('RMSE: {}'.format(rmse))\n",
    "\n",
    "r2 = r2_score(y_test,pred)\n",
    "print('R-Sqruared: {}'.format(r2))"
   ]
  },
  {
   "cell_type": "markdown",
   "metadata": {},
   "source": [
    "#### 4. Conclusion"
   ]
  },
  {
   "cell_type": "markdown",
   "metadata": {},
   "source": [
    "From our regression model we got great results for predicting our beer quality with factors like aroma, palate and taste. Our Root squared Mean Error was 0.28 and r-Squared value was 0.79. These metric show us that our model is highly accurate for prediction. \n",
    "\n",
    "In conclusion if your beer smells good, has a great taste and gives the consumer a good mouth feel then your beer will be quite popular. "
   ]
  },
  {
   "cell_type": "code",
   "execution_count": null,
   "metadata": {},
   "outputs": [],
   "source": []
  }
 ],
 "metadata": {
  "kernelspec": {
   "display_name": "Python 3",
   "language": "python",
   "name": "python3"
  },
  "language_info": {
   "codemirror_mode": {
    "name": "ipython",
    "version": 3
   },
   "file_extension": ".py",
   "mimetype": "text/x-python",
   "name": "python",
   "nbconvert_exporter": "python",
   "pygments_lexer": "ipython3",
   "version": "3.7.6"
  }
 },
 "nbformat": 4,
 "nbformat_minor": 4
}
